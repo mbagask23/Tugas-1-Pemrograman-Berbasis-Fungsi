{
 "cells": [
  {
   "cell_type": "code",
   "execution_count": 2,
   "id": "1e832735",
   "metadata": {},
   "outputs": [],
   "source": [
    "from functools import reduce"
   ]
  },
  {
   "cell_type": "code",
   "execution_count": 3,
   "id": "4f2839fe",
   "metadata": {},
   "outputs": [],
   "source": [
    "def caesar_encrypt(password):\n",
    "    ascii_values = [ord(char) for char in password]\n",
    "    encrypt_values = [(chr((value//26)+80), chr(value%26+80), '+' if value//26 > value%26 else '-') for value in ascii_values]\n",
    "    encrypted_password = reduce(lambda acc, val: acc+val[0]+val[1]+val[2], encrypt_values, '')\n",
    "    return encrypted_password"
   ]
  },
  {
   "cell_type": "code",
   "execution_count": 9,
   "id": "bae6198d",
   "metadata": {},
   "outputs": [
    {
     "name": "stdout",
     "output_type": "stream",
     "text": [
      "Masukkan password: Muhammadbagaskurnia23\n"
     ]
    }
   ],
   "source": [
    "password = input(\"Masukkan password: \")"
   ]
  },
  {
   "cell_type": "code",
   "execution_count": 11,
   "id": "04ffb26f",
   "metadata": {},
   "outputs": [],
   "source": [
    "encrypted_password = caesar_encrypt(password)"
   ]
  },
  {
   "cell_type": "code",
   "execution_count": 12,
   "id": "19219ed3",
   "metadata": {},
   "outputs": [
    {
     "name": "stdout",
     "output_type": "stream",
     "text": [
      "Password:  Muhammadbagaskurnia23\n"
     ]
    }
   ],
   "source": [
    "print(\"Password: \", password)"
   ]
  },
  {
   "cell_type": "code",
   "execution_count": 13,
   "id": "615a82ea",
   "metadata": {},
   "outputs": [
    {
     "name": "stdout",
     "output_type": "stream",
     "text": [
      "Password Terenkripsi:  Ri-T]-TP+Sc-TU-TU-Sc-Sf-Sd-Sc-Si-Sc-T[-TS+T]-TZ-TV-TQ+Sc-Qh-Qi-\n"
     ]
    }
   ],
   "source": [
    "print(\"Password Terenkripsi: \", encrypted_password)"
   ]
  }
 ],
 "metadata": {
  "kernelspec": {
   "display_name": "Python 3 (ipykernel)",
   "language": "python",
   "name": "python3"
  },
  "language_info": {
   "codemirror_mode": {
    "name": "ipython",
    "version": 3
   },
   "file_extension": ".py",
   "mimetype": "text/x-python",
   "name": "python",
   "nbconvert_exporter": "python",
   "pygments_lexer": "ipython3",
   "version": "3.8.10"
  }
 },
 "nbformat": 4,
 "nbformat_minor": 5
}
